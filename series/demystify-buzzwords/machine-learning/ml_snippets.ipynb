{
 "cells": [
  {
   "cell_type": "markdown",
   "metadata": {},
   "source": [
    "# Machine Learning Template"
   ]
  },
  {
   "cell_type": "code",
   "execution_count": 1,
   "metadata": {
    "collapsed": true
   },
   "outputs": [],
   "source": [
    "from sklearn import datasets\n",
    "from sklearn.model_selection import train_test_split\n",
    "from sklearn import linear_model\n",
    "from sklearn import tree"
   ]
  },
  {
   "cell_type": "code",
   "execution_count": 2,
   "metadata": {},
   "outputs": [
    {
     "data": {
      "text/plain": [
       "dict_keys(['target_names', 'target', 'feature_names', 'DESCR', 'data'])"
      ]
     },
     "execution_count": 2,
     "metadata": {},
     "output_type": "execute_result"
    }
   ],
   "source": [
    "classification_dataset = datasets.load_iris()\n",
    "classification_dataset_attributes = classification_dataset.keys()\n",
    "classification_dataset_attributes"
   ]
  },
  {
   "cell_type": "code",
   "execution_count": 3,
   "metadata": {},
   "outputs": [
    {
     "data": {
      "text/plain": [
       "dict_keys(['target', 'feature_names', 'DESCR', 'data'])"
      ]
     },
     "execution_count": 3,
     "metadata": {},
     "output_type": "execute_result"
    }
   ],
   "source": [
    "regression_dataset = datasets.load_boston()\n",
    "regression_dataset_attributes = regression_dataset.keys()\n",
    "regression_dataset_attributes"
   ]
  },
  {
   "cell_type": "markdown",
   "metadata": {},
   "source": [
    "#### Configuration and Variables - only for default Model Tuning Parameters"
   ]
  },
  {
   "cell_type": "code",
   "execution_count": 14,
   "metadata": {},
   "outputs": [],
   "source": [
    "TEST_SIZE = .3\n",
    "RANDOM_STATE = 100\n",
    "PROBLEM_TYPE = 'CLASSIFICATION'\n",
    "# PROBLEM_TYPE = 'REGRESSION'\n",
    "regression_models = [\n",
    "    linear_model.LinearRegression,\n",
    "    linear_model.Lasso\n",
    "]\n",
    "classification_models = [\n",
    "    tree.DecisionTreeClassifier,\n",
    "    linear_model.LogisticRegression\n",
    "]\n",
    "\n",
    "\n",
    "X, y, models = None, None, None"
   ]
  },
  {
   "cell_type": "code",
   "execution_count": 15,
   "metadata": {
    "collapsed": true
   },
   "outputs": [],
   "source": [
    "if PROBLEM_TYPE == 'REGRESSION':\n",
    "    X, y = regression_dataset['data'], regression_dataset['target']\n",
    "    models = regression_models\n",
    "    \n",
    "elif PROBLEM_TYPE == 'CLASSIFICATION':\n",
    "    X, y = classification_dataset['data'], classification_dataset['target']\n",
    "    models = classification_models"
   ]
  },
  {
   "cell_type": "code",
   "execution_count": 16,
   "metadata": {},
   "outputs": [],
   "source": [
    "X_train, X_test, y_train, y_test = train_test_split(X, y, test_size = TEST_SIZE, random_state = RANDOM_STATE)"
   ]
  },
  {
   "cell_type": "code",
   "execution_count": 17,
   "metadata": {},
   "outputs": [
    {
     "name": "stdout",
     "output_type": "stream",
     "text": [
      "DecisionTreeClassifier score is 95.556\n",
      "LogisticRegression score is 100.000\n"
     ]
    }
   ],
   "source": [
    "for model in models:\n",
    "    estimator = model()\n",
    "    estimator.fit(X_train, y_train)\n",
    "    print(\"{0:s} score is {1:.3f}\".format(model.__name__, estimator.score(X_test, y_test) * 100))"
   ]
  },
  {
   "cell_type": "code",
   "execution_count": null,
   "metadata": {
    "collapsed": true
   },
   "outputs": [],
   "source": []
  }
 ],
 "metadata": {
  "anaconda-cloud": {},
  "kernelspec": {
   "display_name": "Python [conda env:Anaconda3]",
   "language": "python",
   "name": "conda-env-Anaconda3-py"
  },
  "language_info": {
   "codemirror_mode": {
    "name": "ipython",
    "version": 3
   },
   "file_extension": ".py",
   "mimetype": "text/x-python",
   "name": "python",
   "nbconvert_exporter": "python",
   "pygments_lexer": "ipython3",
   "version": "3.5.2"
  }
 },
 "nbformat": 4,
 "nbformat_minor": 1
}
